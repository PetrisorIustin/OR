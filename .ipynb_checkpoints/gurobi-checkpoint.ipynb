{
 "cells": [
  {
   "cell_type": "code",
   "execution_count": 2,
   "metadata": {},
   "outputs": [],
   "source": [
    "from gurobipy import *"
   ]
  },
  {
   "cell_type": "code",
   "execution_count": null,
   "metadata": {},
   "outputs": [],
   "source": []
  },
  {
   "cell_type": "code",
   "execution_count": null,
   "metadata": {},
   "outputs": [],
   "source": [
    "\n"
   ]
  },
  {
   "cell_type": "code",
   "execution_count": 2,
   "metadata": {},
   "outputs": [
    {
     "name": "stdout",
     "output_type": "stream",
     "text": [
      "Academic license - for non-commercial use only\n",
      "Optimize a model with 2 rows, 3 columns and 5 nonzeros\n",
      "Variable types: 0 continuous, 3 integer (3 binary)\n",
      "Coefficient statistics:\n",
      "  Matrix range     [1e+00, 3e+00]\n",
      "  Objective range  [1e+00, 2e+00]\n",
      "  Bounds range     [1e+00, 1e+00]\n",
      "  RHS range        [1e+00, 4e+00]\n",
      "Found heuristic solution: objective 2.0000000\n",
      "Presolve removed 2 rows and 3 columns\n",
      "Presolve time: 0.01s\n",
      "Presolve: All rows and columns removed\n",
      "\n",
      "Explored 0 nodes (0 simplex iterations) in 0.03 seconds\n",
      "Thread count was 1 (of 8 available processors)\n",
      "\n",
      "Solution count 2: 3 2 \n",
      "\n",
      "Optimal solution found (tolerance 1.00e-04)\n",
      "Best objective 3.000000000000e+00, best bound 3.000000000000e+00, gap 0.0000%\n",
      "x 1\n",
      "y 0\n",
      "z 1\n",
      "Obj: 3\n"
     ]
    }
   ],
   "source": [
    "\n",
    "\n",
    "try:\n",
    "\n",
    "    # Create a new model\n",
    "    m = Model(\"mip1\")\n",
    "\n",
    "    # Create variables\n",
    "    x = m.addVar(vtype=GRB.BINARY, name=\"x\")\n",
    "    y = m.addVar(vtype=GRB.BINARY, name=\"y\")\n",
    "    z = m.addVar(vtype=GRB.BINARY, name=\"z\")\n",
    "\n",
    "    # Set objective\n",
    "    m.setObjective(x + y + 2 * z, GRB.MAXIMIZE)\n",
    "\n",
    "    # Add constraint: x + 2 y + 3 z <= 4\n",
    "    m.addConstr(x + 2 * y + 3 * z <= 4, \"c0\")\n",
    "\n",
    "    # Add constraint: x + y >= 1\n",
    "    m.addConstr(x + y >= 1, \"c1\")\n",
    "\n",
    "    # Optimize model\n",
    "    m.optimize()\n",
    "\n",
    "    for v in m.getVars():\n",
    "        print('%s %g' % (v.varName, v.x))\n",
    "\n",
    "    print('Obj: %g' % m.objVal)\n",
    "\n",
    "except GurobiError as e:\n",
    "    print('Error code ' + str(e.errno) + \": \" + str(e))\n",
    "\n",
    "except AttributeError:\n",
    "    print('Encountered an attribute error')"
   ]
  },
  {
   "cell_type": "code",
   "execution_count": 7,
   "metadata": {},
   "outputs": [
    {
     "name": "stdout",
     "output_type": "stream",
     "text": [
      "Academic license - for non-commercial use only\n",
      "Optimize a model with 5 rows, 2 columns and 8 nonzeros\n",
      "Coefficient statistics:\n",
      "  Matrix range     [1e+00, 4e+00]\n",
      "  Objective range  [2e+00, 3e+00]\n",
      "  Bounds range     [0e+00, 0e+00]\n",
      "  RHS range        [2e+00, 2e+01]\n",
      "Presolve removed 5 rows and 2 columns\n",
      "Presolve time: 0.02s\n",
      "Presolve: All rows and columns removed\n",
      "Iteration    Objective       Primal Inf.    Dual Inf.      Time\n",
      "       0    9.3333333e+00   0.000000e+00   0.000000e+00      0s\n",
      "\n",
      "Solved in 0 iterations and 0.04 seconds\n",
      "Optimal objective  9.333333333e+00\n",
      "x1 4.66667\n",
      "x2 0\n",
      "Obj: 9.33333\n"
     ]
    }
   ],
   "source": [
    "\n",
    "try:\n",
    "\n",
    "    # Create a new model\n",
    "    m = Model(\"mip2\")\n",
    "\n",
    "    # Create variables\n",
    "    x1 = m.addVar(vtype=GRB.CONTINUOUS, name=\"x1\")\n",
    "    x2 = m.addVar(vtype=GRB.CONTINUOUS, name=\"x2\")\n",
    "\n",
    "    # Set objective\n",
    "    m.setObjective(2*x1 + 3*x2, GRB.MINIMIZE)\n",
    "\n",
    "    # Add constraint: x + 2 y + 3 z <= 4\n",
    "    m.addConstr(3*x1 + 2*x2 == 14, \"c0\")\n",
    "\n",
    "    # Add constraint: x + y >= 1\n",
    "    m.addConstr(2*x1 - 4*x2 >= 2, \"c1\")\n",
    "    m.addConstr(4*x1 + 3*x2 <= 19, \"c2\")\n",
    "    \n",
    "    m.addConstr(x1 >= 0, \"c3\")\n",
    "    m.addConstr(x2 >= 0, \"c4\")\n",
    "\n",
    "    # Optimize model\n",
    "    m.optimize()\n",
    "\n",
    "    for v in m.getVars():\n",
    "        print('%s %g' % (v.varName, v.x))\n",
    "\n",
    "    print('Obj: %g' % m.objVal)\n",
    "\n",
    "except GurobiError as e:\n",
    "    print('Error code ' + str(e.errno) + \": \" + str(e))\n",
    "\n",
    "except AttributeError:\n",
    "    print('Encountered an attribute error')"
   ]
  },
  {
   "cell_type": "code",
   "execution_count": 8,
   "metadata": {},
   "outputs": [
    {
     "name": "stdout",
     "output_type": "stream",
     "text": [
      "Optimize a model with 5 rows, 3 columns and 9 nonzeros\n",
      "Coefficient statistics:\n",
      "  Matrix range     [1e+00, 2e+00]\n",
      "  Objective range  [1e+00, 1e+00]\n",
      "  Bounds range     [0e+00, 0e+00]\n",
      "  RHS range        [2e+00, 4e+00]\n",
      "Presolve removed 5 rows and 3 columns\n",
      "Presolve time: 0.01s\n",
      "Presolve: All rows and columns removed\n",
      "Iteration    Objective       Primal Inf.    Dual Inf.      Time\n",
      "       0    2.0000000e+00   0.000000e+00   0.000000e+00      0s\n",
      "\n",
      "Solved in 0 iterations and 0.01 seconds\n",
      "Optimal objective  2.000000000e+00\n",
      "x1 2\n",
      "x2 0\n",
      "x3 0\n",
      "Obj: 2\n"
     ]
    }
   ],
   "source": [
    "\n",
    "try:\n",
    "\n",
    "    # Create a new model\n",
    "    m = Model(\"mip2\")\n",
    "\n",
    "    # Create variables\n",
    "    x1 = m.addVar(vtype=GRB.CONTINUOUS, name=\"x1\")\n",
    "    x2 = m.addVar(vtype=GRB.CONTINUOUS, name=\"x2\")\n",
    "    x3 = m.addVar(vtype=GRB.CONTINUOUS, name=\"x3\")\n",
    "\n",
    "    # Set objective\n",
    "    m.setObjective(x1 + x2, GRB.MINIMIZE)\n",
    "\n",
    "    # Add constraint: x + 2 y + 3 z <= 4\n",
    "    m.addConstr(2*x1 + x2 + x3 == 4, \"c0\")\n",
    "    m.addConstr(x1 + x2 + 2*x3 == 2, \"c1\")\n",
    "\n",
    "    m.addConstr(x1 >= 0, \"c2\")\n",
    "    m.addConstr(x2 >= 0, \"c3\")\n",
    "    m.addConstr(x3 >= 0, \"c4\")\n",
    "\n",
    "    # Optimize model\n",
    "    m.optimize()\n",
    "\n",
    "    for v in m.getVars():\n",
    "        print('%s %g' % (v.varName, v.x))\n",
    "\n",
    "    print('Obj: %g' % m.objVal)\n",
    "\n",
    "except GurobiError as e:\n",
    "    print('Error code ' + str(e.errno) + \": \" + str(e))\n",
    "\n",
    "except AttributeError:\n",
    "    print('Encountered an attribute error')"
   ]
  },
  {
   "cell_type": "code",
   "execution_count": 9,
   "metadata": {},
   "outputs": [
    {
     "ename": "TypeError",
     "evalue": "getTuneResult() takes exactly 2 positional arguments (1 given)",
     "output_type": "error",
     "traceback": [
      "\u001b[1;31m---------------------------------------------------------------------------\u001b[0m",
      "\u001b[1;31mTypeError\u001b[0m                                 Traceback (most recent call last)",
      "\u001b[1;32m<ipython-input-9-b1561a3c1346>\u001b[0m in \u001b[0;36m<module>\u001b[1;34m\u001b[0m\n\u001b[1;32m----> 1\u001b[1;33m \u001b[0mm\u001b[0m\u001b[1;33m.\u001b[0m\u001b[0mgetTuneResult\u001b[0m\u001b[1;33m(\u001b[0m\u001b[1;33m)\u001b[0m\u001b[1;33m\u001b[0m\u001b[0m\n\u001b[0m",
      "\u001b[1;32mmodel.pxi\u001b[0m in \u001b[0;36mgurobipy.Model.getTuneResult\u001b[1;34m()\u001b[0m\n",
      "\u001b[1;31mTypeError\u001b[0m: getTuneResult() takes exactly 2 positional arguments (1 given)"
     ]
    }
   ],
   "source": [
    "\n",
    "try:\n",
    "\n",
    "    # Create a new model\n",
    "    m = Model(\"c)\")\n",
    "\n",
    "    # Create variables\n",
    "    x1 = m.addVar(vtype=GRB.CONTINUOUS, name=\"x1\")\n",
    "    x2 = m.addVar(vtype=GRB.CONTINUOUS, name=\"x2\")\n",
    "    x3 = m.addVar(vtype=GRB.CONTINUOUS, name=\"x3\")\n",
    "\n",
    "    # Set objective\n",
    "    m.setObjective(-3*x1 + x2 + 3*x3 - x4, GRB.MINIMIZE)\n",
    "\n",
    "    # Add constraint: x + 2 y + 3 z <= 4\n",
    "    m.addConstr(x1 + 2*x2 - x3 + x4 == 0, \"c0\")\n",
    "    m.addConstr(2*x1 - 2*x2 + 3*x3 + 3*x4 == 9, \"c1\")\n",
    "    m.addConstr(x1 - x2 + 2*x3 - x4 == 6, \"c2\")\n",
    "\n",
    "    m.addConstr(x1 >= 0, \"c3\")\n",
    "    m.addConstr(x2 >= 0, \"c4\")\n",
    "    m.addConstr(x3 >= 0, \"c5\")\n",
    "    m.addConstr(x3 >= 0, \"c6\")\n",
    "\n",
    "    # Optimize model\n",
    "    m.optimize()\n",
    "\n",
    "    for v in m.getVars():\n",
    "        print('%s %g' % (v.varName, v.x))\n",
    "\n",
    "    print('Obj: %g' % m.objVal)\n",
    "\n",
    "except GurobiError as e:\n",
    "    print('Error code ' + str(e.errno) + \": \" + str(e))\n",
    "\n",
    "except AttributeError:\n",
    "    print('Encountered an attribute error')"
   ]
  },
  {
   "cell_type": "code",
   "execution_count": null,
   "metadata": {},
   "outputs": [],
   "source": []
  }
 ],
 "metadata": {
  "kernelspec": {
   "display_name": "Python 3",
   "language": "python",
   "name": "python3"
  },
  "language_info": {
   "codemirror_mode": {
    "name": "ipython",
    "version": 3
   },
   "file_extension": ".py",
   "mimetype": "text/x-python",
   "name": "python",
   "nbconvert_exporter": "python",
   "pygments_lexer": "ipython3",
   "version": "3.6.0"
  }
 },
 "nbformat": 4,
 "nbformat_minor": 2
}
